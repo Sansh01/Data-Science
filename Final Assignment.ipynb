{
    "cells": [
        {
            "cell_type": "markdown",
            "metadata": {},
            "source": "<center>\n    <img src=\"https://s3-api.us-geo.objectstorage.softlayer.net/cf-courses-data/CognitiveClass/Logos/organization_logo/organization_logo.png\" width=\"300\" alt=\"cognitiveclass.ai logo\"  />\n</center>\n"
        },
        {
            "cell_type": "markdown",
            "metadata": {},
            "source": "#### Add your code below following the instructions given in the course\n"
        },
        {
            "cell_type": "markdown",
            "metadata": {},
            "source": "# My Jupyter Notebook on IBM Watson Studio"
        },
        {
            "cell_type": "markdown",
            "metadata": {},
            "source": "__Sanshray Raj__\n\nData Scientist"
        },
        {
            "cell_type": "markdown",
            "metadata": {},
            "source": "*I am interested in data science because I like manipulation of large amounts of data and finding trend in them.*"
        },
        {
            "cell_type": "markdown",
            "metadata": {},
            "source": "### This code calculates and shows powers of 2 ( from 0 to 9 )"
        },
        {
            "cell_type": "code",
            "execution_count": 14,
            "metadata": {},
            "outputs": [
                {
                    "name": "stdout",
                    "output_type": "stream",
                    "text": "2 ^ 0  =  1\n2 ^ 1  =  2\n2 ^ 2  =  4\n2 ^ 3  =  8\n2 ^ 4  =  16\n2 ^ 5  =  32\n2 ^ 6  =  64\n2 ^ 7  =  128\n2 ^ 8  =  256\n2 ^ 9  =  512\n"
                }
            ],
            "source": "for i in range(0,10,1):\n    print(\"2 ^\",i,\" = \",2**i)"
        },
        {
            "cell_type": "markdown",
            "metadata": {},
            "source": "# The Directions\n___\n```python\nprint(\"The Directions:\")\n```\n***\n![logo]\n\n[logo]:https://m.media-amazon.com/images/I/51H1kCB55OL._SR600%2C315_PIWhiteStrip%2CBottomLeft%2C0%2C35_SCLZZZZZZZ_FMpng_BG255%2C255%2C255.jpg\n___\nHere's a ordered list of cardinal directions:\n1. North\n2. South\n3. East\n4. West\n***\nHere's a ordered list of intermediate directions:\n* North-East\n* North-West\n+ South-East\n- South-West\n___\n> North, south, east, and west are the only true directions or cardinal directions. The directions on the compass that are halfway between these cardinal points are called northeast, southeast, southwest, and northwest. These in-between points are called intermediate directions.\n___\n\nHere's a table of *Directions*:\n\n\n\n|Cardinal|Intermediate|\n|:---:|:---:|\n|North|North-East|\n|East|North-West|\n|South|South-East|\n|West|South-West|\n\n~~These are the directions.~~"
        }
    ],
    "metadata": {
        "kernelspec": {
            "display_name": "Python 3.9",
            "language": "python",
            "name": "python3"
        },
        "language_info": {
            "codemirror_mode": {
                "name": "ipython",
                "version": 3
            },
            "file_extension": ".py",
            "mimetype": "text/x-python",
            "name": "python",
            "nbconvert_exporter": "python",
            "pygments_lexer": "ipython3",
            "version": "3.9.13"
        }
    },
    "nbformat": 4,
    "nbformat_minor": 4
}